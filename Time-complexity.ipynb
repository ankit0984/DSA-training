{
 "cells": [
  {
   "cell_type": "code",
   "execution_count": 12,
   "metadata": {},
   "outputs": [
    {
     "name": "stdout",
     "output_type": "stream",
     "text": [
      "hello james\n",
      "hello james\n",
      "hello james\n",
      "hello james\n",
      "hello james\n",
      "hello james\n",
      "hello james\n",
      "hello james\n",
      "hello james\n",
      "hello james\n",
      "hello james\n",
      "hello james\n",
      "13\n"
     ]
    }
   ],
   "source": [
    "# time complexity of the above code is O(nlogn)\n",
    "n=int(input())\n",
    "temp=n\n",
    "c=1\n",
    "for i in range(n): # explain complexity of O(n)\n",
    "    temp=n\n",
    "    while temp!=0: # explain complexity of O(logn)\n",
    "        print(\"hello james\")\n",
    "        c+=1\n",
    "        temp=temp//2\n",
    "print(c)\n"
   ]
  },
  {
   "cell_type": "code",
   "execution_count": 27,
   "metadata": {},
   "outputs": [
    {
     "name": "stdout",
     "output_type": "stream",
     "text": [
      "6\n",
      "time taken 2.461693525314331\n"
     ]
    }
   ],
   "source": [
    "# P - Number of multiples\n",
    "import time\n",
    "start_time=time.time()\n",
    "n=int(input())\n",
    "def multiples(n):\n",
    "    count=0\n",
    "    for i in range(1,n):\n",
    "        if (i%3 and i%5):\n",
    "            count+=1\n",
    "        else:\n",
    "            pass\n",
    "    return count\n",
    "end_time=time.time()\n",
    "print(multiples(n))\n",
    "print(\"time taken\",end_time-start_time)"
   ]
  },
  {
   "cell_type": "code",
   "execution_count": 26,
   "metadata": {},
   "outputs": [
    {
     "name": "stdout",
     "output_type": "stream",
     "text": [
      "6\n",
      "time taken 2.138526439666748\n"
     ]
    }
   ],
   "source": [
    "# P - Number of multiples\n",
    "import time\n",
    "start_time=time.time()\n",
    "n=int(input())\n",
    "end_time=time.time()\n",
    "print(n//3+n//5-n//15)\n",
    "print(\"time taken\",end_time-start_time)"
   ]
  },
  {
   "cell_type": "code",
   "execution_count": 30,
   "metadata": {},
   "outputs": [
    {
     "name": "stdout",
     "output_type": "stream",
     "text": [
      "90\n"
     ]
    }
   ],
   "source": [
    "# C - Watching Movies at 2x\n",
    "x,y=map(int,(input().split()))\n",
    "print(y//2+x-y)"
   ]
  },
  {
   "cell_type": "code",
   "execution_count": 40,
   "metadata": {},
   "outputs": [
    {
     "name": "stdout",
     "output_type": "stream",
     "text": [
      "True\n",
      "time taken 2.037593126296997\n"
     ]
    }
   ],
   "source": [
    "# wap to check given number is prime or not\n",
    "# method 1 time taken 2.037593126296997\n",
    "import time\n",
    "start_time=time.time()\n",
    "n=int(input())\n",
    "def is_prime(n):\n",
    "    for i in range(2,n):\n",
    "        if n%i==0:\n",
    "            return False\n",
    "    return True\n",
    "end_time=time.time()\n",
    "print(is_prime(n))\n",
    "print(\"time taken\",end_time-start_time)\n",
    "\n",
    "# method 2  time taken 2.266289710998535\n",
    "import time\n",
    "start_time=time.time()\n",
    "n=int(input())\n",
    "num_of_factors=0\n",
    "for i in range(2,n//2):\n",
    "    if n%i==0:\n",
    "        num_of_factors+=1\n",
    "    if num_of_factors==0:\n",
    "        print(\"prime\")\n",
    "    else:\n",
    "        print(\"not prime\")\n",
    "end_time=time.time()\n",
    "print(\"time taken\",end_time-start_time) \n",
    "\n",
    "# method 3 time complexity 2.905226230621338\n",
    "import time\n",
    "start_time=time.time()\n",
    "def prime(n):\n",
    "    for i in range(2,int(n**0.5)):\n",
    "        if n%i==0:\n",
    "            print('not prime')\n",
    "            return\n",
    "    print('prime')\n",
    "n= int(input())\n",
    "prime(n)\n",
    "end_time=time.time()\n",
    "print(\"time taken\",end_time-start_time)\n",
    "\n",
    "# method 4 time complexity 2.1915385723114014\n",
    "\n",
    "import time\n",
    "start_time=time.time()\n",
    "n=int(input())\n",
    "for i in range(2,n):\n",
    "    if n%i==0:\n",
    "        pass\n",
    "end_time=time.time()\n",
    "print(\"prime\")\n",
    "print(\"time taken\",end_time-start_time)\n",
    "\n",
    "# method 5 time complexity 1.985032081604004\n",
    "import time\n",
    "start_time=time.time()\n",
    "def prime(n):\n",
    "    if n<=1:\n",
    "        print('not prime')\n",
    "        return\n",
    "    for i in range(2,int(n**0.5)+1):\n",
    "        if n%i==0:\n",
    "            print('not prime')\n",
    "            return\n",
    "    print('prime')\n",
    "n= int(input())\n",
    "prime(n)\n",
    "end_time=time.time()\n",
    "print(\"time taken\",end_time-start_time)\n",
    "\n",
    "\n"
   ]
  },
  {
   "cell_type": "code",
   "execution_count": 47,
   "metadata": {},
   "outputs": [
    {
     "name": "stdout",
     "output_type": "stream",
     "text": [
      "prime\n",
      "time taken 2.782381057739258\n"
     ]
    }
   ],
   "source": []
  }
 ],
 "metadata": {
  "kernelspec": {
   "display_name": "Python 3",
   "language": "python",
   "name": "python3"
  },
  "language_info": {
   "codemirror_mode": {
    "name": "ipython",
    "version": 3
   },
   "file_extension": ".py",
   "mimetype": "text/x-python",
   "name": "python",
   "nbconvert_exporter": "python",
   "pygments_lexer": "ipython3",
   "version": "3.10.13"
  }
 },
 "nbformat": 4,
 "nbformat_minor": 2
}
