{
 "cells": [
  {
   "cell_type": "code",
   "execution_count": 12,
   "metadata": {},
   "outputs": [
    {
     "name": "stdout",
     "output_type": "stream",
     "text": [
      "hello james\n",
      "hello james\n",
      "hello james\n",
      "hello james\n",
      "hello james\n",
      "hello james\n",
      "hello james\n",
      "hello james\n",
      "hello james\n",
      "hello james\n",
      "hello james\n",
      "hello james\n",
      "13\n"
     ]
    }
   ],
   "source": [
    "# time complexity of the above code is O(nlogn)\n",
    "n=int(input())\n",
    "temp=n\n",
    "c=1\n",
    "for i in range(n): # explain complexity of O(n)\n",
    "    temp=n\n",
    "    while temp!=0: # explain complexity of O(logn)\n",
    "        print(\"hello james\")\n",
    "        c+=1\n",
    "        temp=temp//2\n",
    "print(c)\n"
   ]
  },
  {
   "cell_type": "code",
   "execution_count": 27,
   "metadata": {},
   "outputs": [
    {
     "name": "stdout",
     "output_type": "stream",
     "text": [
      "6\n",
      "time taken 2.461693525314331\n"
     ]
    }
   ],
   "source": [
    "# P - Number of multiples\n",
    "import time\n",
    "start_time=time.time()\n",
    "n=int(input())\n",
    "def multiples(n):\n",
    "    count=0\n",
    "    for i in range(1,n):\n",
    "        if (i%3 and i%5):\n",
    "            count+=1\n",
    "        else:\n",
    "            pass\n",
    "    return count\n",
    "end_time=time.time()\n",
    "print(multiples(n))\n",
    "print(\"time taken\",end_time-start_time)"
   ]
  },
  {
   "cell_type": "code",
   "execution_count": 26,
   "metadata": {},
   "outputs": [
    {
     "name": "stdout",
     "output_type": "stream",
     "text": [
      "6\n",
      "time taken 2.138526439666748\n"
     ]
    }
   ],
   "source": [
    "# P - Number of multiples\n",
    "import time\n",
    "start_time=time.time()\n",
    "n=int(input())\n",
    "end_time=time.time()\n",
    "print(n//3+n//5-n//15)\n",
    "print(\"time taken\",end_time-start_time)"
   ]
  },
  {
   "cell_type": "code",
   "execution_count": 30,
   "metadata": {},
   "outputs": [
    {
     "name": "stdout",
     "output_type": "stream",
     "text": [
      "90\n"
     ]
    }
   ],
   "source": [
    "# C - Watching Movies at 2x\n",
    "x,y=map(int,(input().split()))\n",
    "print(y//2+x-y)"
   ]
  },
  {
   "cell_type": "code",
   "execution_count": 40,
   "metadata": {},
   "outputs": [
    {
     "name": "stdout",
     "output_type": "stream",
     "text": [
      "True\n",
      "time taken 2.037593126296997\n"
     ]
    }
   ],
   "source": [
    "# wap to check given number is prime or not\n",
    "# method 1 time taken 2.037593126296997\n",
    "import time\n",
    "start_time=time.time()\n",
    "n=int(input())\n",
    "def is_prime(n):\n",
    "    for i in range(2,n):\n",
    "        if n%i==0:\n",
    "            return False\n",
    "    return True\n",
    "end_time=time.time()\n",
    "print(is_prime(n))\n",
    "print(\"time taken\",end_time-start_time)\n",
    "\n",
    "# method 2  time taken 2.266289710998535\n",
    "import time\n",
    "start_time=time.time()\n",
    "n=int(input())\n",
    "num_of_factors=0\n",
    "for i in range(2,n//2):\n",
    "    if n%i==0:\n",
    "        num_of_factors+=1\n",
    "    if num_of_factors==0:\n",
    "        print(\"prime\")\n",
    "    else:\n",
    "        print(\"not prime\")\n",
    "end_time=time.time()\n",
    "print(\"time taken\",end_time-start_time) \n",
    "\n",
    "# method 3 time complexity 2.905226230621338\n",
    "import time\n",
    "start_time=time.time()\n",
    "def prime(n):\n",
    "    for i in range(2,int(n**0.5)):\n",
    "        if n%i==0:\n",
    "            print('not prime')\n",
    "            return\n",
    "    print('prime')\n",
    "n= int(input())\n",
    "prime(n)\n",
    "end_time=time.time()\n",
    "print(\"time taken\",end_time-start_time)\n",
    "\n",
    "# method 4 time complexity 2.1915385723114014\n",
    "\n",
    "import time\n",
    "start_time=time.time()\n",
    "n=int(input())\n",
    "for i in range(2,n):\n",
    "    if n%i==0:\n",
    "        pass\n",
    "end_time=time.time()\n",
    "print(\"prime\")\n",
    "print(\"time taken\",end_time-start_time)\n",
    "\n",
    "# method 5 time complexity 1.985032081604004\n",
    "import time\n",
    "start_time=time.time()\n",
    "def prime(n):\n",
    "    if n<=1:\n",
    "        print('not prime')\n",
    "        return\n",
    "    for i in range(2,int(n**0.5)+1):\n",
    "        if n%i==0:\n",
    "            print('not prime')\n",
    "            return\n",
    "    print('prime')\n",
    "n= int(input())\n",
    "prime(n)\n",
    "end_time=time.time()\n",
    "print(\"time taken\",end_time-start_time)\n",
    "\n",
    "\n"
   ]
  },
  {
   "cell_type": "code",
   "execution_count": 47,
   "metadata": {},
   "outputs": [
    {
     "name": "stdout",
     "output_type": "stream",
     "text": [
      "prime\n",
      "time taken 2.782381057739258\n"
     ]
    }
   ],
   "source": [
    "# Divide the apples - 2\n",
    "n=int(input())\n",
    "k=int(input())\n",
    "print(k%n)"
   ]
  },
  {
   "cell_type": "code",
   "execution_count": null,
   "metadata": {},
   "outputs": [],
   "source": [
    "l,b = map(int,input().split())\n",
    "print(l*b)"
   ]
  },
  {
   "cell_type": "code",
   "execution_count": 4,
   "metadata": {},
   "outputs": [
    {
     "name": "stdout",
     "output_type": "stream",
     "text": [
      "100\n"
     ]
    }
   ],
   "source": [
    "N = int(input())\n",
    "sum_of_squares = sum([i**3 for i in range(1, N+1)])\n",
    "print(sum_of_squares)"
   ]
  },
  {
   "cell_type": "code",
   "execution_count": 5,
   "metadata": {},
   "outputs": [
    {
     "name": "stdout",
     "output_type": "stream",
     "text": [
      "14\n"
     ]
    }
   ],
   "source": [
    "l,b = map(int,input().split())\n",
    "print(2*(l+b))"
   ]
  },
  {
   "cell_type": "code",
   "execution_count": 6,
   "metadata": {},
   "outputs": [
    {
     "name": "stdout",
     "output_type": "stream",
     "text": [
      "33453\n"
     ]
    }
   ],
   "source": [
    "n = 345\n",
    "new_number = int(\"3\" + str(n) + \"3\")\n",
    "print(new_number)"
   ]
  },
  {
   "cell_type": "code",
   "execution_count": 9,
   "metadata": {},
   "outputs": [
    {
     "name": "stdout",
     "output_type": "stream",
     "text": [
      "38003\n"
     ]
    }
   ],
   "source": [
    "n = int(input())\n",
    "new_number = int(\"3\" + str(n) + \"3\")\n",
    "print(new_number)"
   ]
  },
  {
   "cell_type": "code",
   "execution_count": 10,
   "metadata": {},
   "outputs": [
    {
     "name": "stdout",
     "output_type": "stream",
     "text": [
      "10\n"
     ]
    }
   ],
   "source": [
    "n=int(input())\n",
    "print(n*(n+1)//2)"
   ]
  },
  {
   "cell_type": "code",
   "execution_count": 6,
   "metadata": {},
   "outputs": [
    {
     "name": "stdout",
     "output_type": "stream",
     "text": [
      "1\n",
      "9\n",
      "8\n"
     ]
    }
   ],
   "source": [
    "n = int(input())\n",
    "\n",
    "x1 = n // 100\n",
    "x2 = (n // 10) % 10\n",
    "x3 = n % 10\n",
    "\n",
    "print(x1)\n",
    "print(x2)\n",
    "print(x3)"
   ]
  },
  {
   "cell_type": "code",
   "execution_count": 12,
   "metadata": {},
   "outputs": [
    {
     "name": "stdout",
     "output_type": "stream",
     "text": [
      "1\n",
      "9\n",
      "8\n"
     ]
    }
   ],
   "source": [
    "n=198\n",
    "# n=int(input())\n",
    "if n<0:\n",
    "    n=n*-1\n",
    "print(n//100)\n",
    "print((n//10)%10)\n",
    "print(n%10)"
   ]
  },
  {
   "cell_type": "code",
   "execution_count": 14,
   "metadata": {},
   "outputs": [],
   "source": [
    "list = [100, 200, 300, 10, 20, 30]\n",
    "\n",
    "def list_sum(list):\n",
    "    list_max=list[0]\n",
    "    result=list[0]\n",
    "    for i in range(1,len(list)):\n",
    "        if list[i]>list_max:\n",
    "            list_max=list[i]\n",
    "            result+=list[i]\n",
    "    return result"
   ]
  },
  {
   "cell_type": "code",
   "execution_count": null,
   "metadata": {},
   "outputs": [],
   "source": [
    "list1 =list(map(int,input().split( )))\n",
    "res=list1[0]\n",
    "curr_max = list1[0]\n",
    "\n",
    "for i in list1:\n",
    "    if i > curr_max:\n",
    "        res+=i\n",
    "        curr_max=i\n",
    "print(res)\n"
   ]
  },
  {
   "cell_type": "code",
   "execution_count": 22,
   "metadata": {},
   "outputs": [
    {
     "ename": "TypeError",
     "evalue": "'list' object is not callable",
     "output_type": "error",
     "traceback": [
      "\u001b[0;31m---------------------------------------------------------------------------\u001b[0m",
      "\u001b[0;31mTypeError\u001b[0m                                 Traceback (most recent call last)",
      "Cell \u001b[0;32mIn[22], line 5\u001b[0m\n\u001b[1;32m      3\u001b[0m list1\u001b[38;5;241m=\u001b[39m[]\n\u001b[1;32m      4\u001b[0m \u001b[38;5;28;01mfor\u001b[39;00m i \u001b[38;5;129;01min\u001b[39;00m \u001b[38;5;28mrange\u001b[39m(nr):\n\u001b[0;32m----> 5\u001b[0m     temp_list\u001b[38;5;241m=\u001b[39m\u001b[38;5;28;43mlist\u001b[39;49m\u001b[43m(\u001b[49m\u001b[38;5;28;43mmap\u001b[39;49m\u001b[43m(\u001b[49m\u001b[38;5;28;43mint\u001b[39;49m\u001b[43m,\u001b[49m\u001b[38;5;28;43minput\u001b[39;49m\u001b[43m(\u001b[49m\u001b[43m)\u001b[49m\u001b[38;5;241;43m.\u001b[39;49m\u001b[43msplit\u001b[49m\u001b[43m(\u001b[49m\u001b[38;5;124;43m\"\u001b[39;49m\u001b[38;5;124;43m \u001b[39;49m\u001b[38;5;124;43m\"\u001b[39;49m\u001b[43m)\u001b[49m\u001b[43m)\u001b[49m\u001b[43m)\u001b[49m\n\u001b[1;32m      6\u001b[0m     list1\u001b[38;5;241m.\u001b[39mappend(temp_list)\n\u001b[1;32m      7\u001b[0m \u001b[38;5;28;01mfor\u001b[39;00m i \u001b[38;5;129;01min\u001b[39;00m \u001b[38;5;28mrange\u001b[39m(nr):\n",
      "\u001b[0;31mTypeError\u001b[0m: 'list' object is not callable"
     ]
    }
   ],
   "source": [
    "nr=int(input(\"entr the rows: \"))\n",
    "nc=int(input(\"enter the columns: \"))\n",
    "list1=[]\n",
    "for i in range(nr):\n",
    "    temp_list=list(map(int,input().split(\" \")))\n",
    "    list1.append(temp_list)\n",
    "for i in range(nr):\n",
    "    for j in range(nc):\n",
    "        print(list1[i][j],end=\" \")\n",
    "    print()"
   ]
  },
  {
   "cell_type": "code",
   "execution_count": null,
   "metadata": {},
   "outputs": [],
   "source": [
    "# wap to find sum of primary and secondary diagonal of given 2d list\n",
    "\"\"\"\n",
    "sample input:\n",
    "    1 2 1\n",
    "    3 4 5\n",
    "    6 5 4\n",
    "sample output:\n",
    "    16\n",
    "\"\"\"\n",
    "\n",
    "nr=int(input(\"entr the rows: \"))\n",
    "li1=[]\n",
    "\n",
    "for i in range(nr):\n",
    "    li1.append(list(map(int,input().split(\" \"))))\n",
    "    sum=0\n",
    "    for i in range(nr):\n",
    "                                                                                                                                                                                "
   ]
  },
  {
   "cell_type": "code",
   "execution_count": 20,
   "metadata": {},
   "outputs": [
    {
     "name": "stdout",
     "output_type": "stream",
     "text": [
      "9 24\n"
     ]
    }
   ],
   "source": [
    "n = int(input())\n",
    "\n",
    "x1 = n // 100\n",
    "x2 = (n // 10) % 10\n",
    "x3 = n % 10\n",
    "\n",
    "sum_x = x1 + x2 + x3\n",
    "product_x = x1 * x2 * x3\n",
    "\n",
    "print(sum_x, product_x)"
   ]
  }
 ],
 "metadata": {
  "kernelspec": {
   "display_name": "Python 3",
   "language": "python",
   "name": "python3"
  },
  "language_info": {
   "codemirror_mode": {
    "name": "ipython",
    "version": 3
   },
   "file_extension": ".py",
   "mimetype": "text/x-python",
   "name": "python",
   "nbconvert_exporter": "python",
   "pygments_lexer": "ipython3",
   "version": "3.10.13"
  }
 },
 "nbformat": 4,
 "nbformat_minor": 2
}
