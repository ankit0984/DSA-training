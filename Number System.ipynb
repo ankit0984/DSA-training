{
 "cells": [
  {
   "cell_type": "code",
   "execution_count": 40,
   "id": "initial_id",
   "metadata": {
    "collapsed": true,
    "ExecuteTime": {
     "end_time": "2024-07-08T05:48:19.401826Z",
     "start_time": "2024-07-08T05:48:15.150548Z"
    }
   },
   "outputs": [
    {
     "name": "stdout",
     "output_type": "stream",
     "text": [
      "Binary Result using List:  [1, 0, 0, 0, 1, 1]\n",
      "Binary Result using String:  100011\n"
     ]
    }
   ],
   "source": [
    "#program to convert the number in binary number\n",
    "def BinaryCoversion(n):\n",
    "    r=[]\n",
    "    if n==0:\n",
    "        return 0\n",
    "    while n>0:\n",
    "        rem=n%2\n",
    "        r.append(rem)\n",
    "        n=n//2\n",
    "    return r[::-1]\n",
    "\n",
    "#  ---------------------------------------------------------------------------------------------\n",
    "# method using string\n",
    "# ---------------------------------------------------------------------------------------------\n",
    "def DecimalTobinaryConversionUsingString(n):\n",
    "    binary_result=\"\"\n",
    "    if n==0:\n",
    "        return 0\n",
    "    while n>0:\n",
    "        binary_result = str(n%2)+binary_result\n",
    "        n=n//2\n",
    "    return binary_result\n",
    "\n",
    "#----------------------------------------------------------------------------------------------\n",
    "# Built in methods\n",
    "# ---------------------------------------------------------------------------------------------\n",
    "\n",
    "\n",
    "n=int(input(\"Enter your Decimal Number:\"))\n",
    "res= BinaryCoversion(n)\n",
    "print(\"Binary Result using List: \",res)\n",
    "\n",
    "print(\"Binary Result using String: \",DecimalTobinaryConversionUsingString(n))"
   ]
  },
  {
   "cell_type": "code",
   "outputs": [
    {
     "ename": "ValueError",
     "evalue": "invalid literal for int() with base 10: ''",
     "output_type": "error",
     "traceback": [
      "\u001B[1;31m---------------------------------------------------------------------------\u001B[0m",
      "\u001B[1;31mValueError\u001B[0m                                Traceback (most recent call last)",
      "Cell \u001B[1;32mIn[34], line 11\u001B[0m\n\u001B[0;32m      9\u001B[0m         n\u001B[38;5;241m=\u001B[39mn\u001B[38;5;241m/\u001B[39m\u001B[38;5;241m/\u001B[39m\u001B[38;5;241m10\u001B[39m\n\u001B[0;32m     10\u001B[0m     \u001B[38;5;28;01mreturn\u001B[39;00m \u001B[38;5;28msum\u001B[39m\n\u001B[1;32m---> 11\u001B[0m n\u001B[38;5;241m=\u001B[39m\u001B[38;5;28;43mint\u001B[39;49m\u001B[43m(\u001B[49m\u001B[38;5;28;43minput\u001B[39;49m\u001B[43m(\u001B[49m\u001B[38;5;124;43m\"\u001B[39;49m\u001B[38;5;124;43mEnter your binary number: \u001B[39;49m\u001B[38;5;124;43m\"\u001B[39;49m\u001B[43m)\u001B[49m\u001B[43m)\u001B[49m\n\u001B[0;32m     12\u001B[0m res\u001B[38;5;241m=\u001B[39m BinaryToDecimalConversion(n)\n\u001B[0;32m     13\u001B[0m \u001B[38;5;28mprint\u001B[39m(res)\n",
      "\u001B[1;31mValueError\u001B[0m: invalid literal for int() with base 10: ''"
     ]
    }
   ],
   "source": [
    "#Write a program to calculate the decimal value of a given binary numer\n",
    "\n",
    "def BinaryToDecimalConversion(n):\n",
    "    sum=0\n",
    "    power=0\n",
    "    while n>0:\n",
    "        sum +=(n%10)*(2**power)\n",
    "        power+=1\n",
    "        n=n//10\n",
    "    return sum\n",
    "n=int(input(\"Enter your binary number: \"))\n",
    "res= BinaryToDecimalConversion(n)\n",
    "print(res)"
   ],
   "metadata": {
    "collapsed": false,
    "ExecuteTime": {
     "end_time": "2024-07-08T05:38:10.865733Z",
     "start_time": "2024-07-08T05:38:05.902615Z"
    }
   },
   "id": "6cd8c471750721f3",
   "execution_count": 34
  },
  {
   "cell_type": "code",
   "outputs": [
    {
     "name": "stdout",
     "output_type": "stream",
     "text": [
      "1314\n"
     ]
    }
   ],
   "source": [
    "#program to convert decimal to octal\n",
    "def DecimalToOctal(n):\n",
    "    res=\"\"\n",
    "    while n>0:\n",
    "        res=str(n%8)+res\n",
    "        n=n//8\n",
    "    return res\n",
    "\n",
    "n=int(input(\"Enter Decimal number:\"))\n",
    "res= DecimalToOctal(n)\n",
    "print(res)"
   ],
   "metadata": {
    "collapsed": false,
    "ExecuteTime": {
     "end_time": "2024-07-08T05:44:21.095700Z",
     "start_time": "2024-07-08T05:44:19.401351Z"
    }
   },
   "id": "5ca8ce58a8147bfc",
   "execution_count": 39
  },
  {
   "cell_type": "code",
   "outputs": [
    {
     "name": "stdout",
     "output_type": "stream",
     "text": [
      "step  1 : 2\n",
      "step  2 : 18\n",
      "18\n"
     ]
    }
   ],
   "source": [
    "def OctalToDecimal(n):\n",
    "    result=0\n",
    "    power=0\n",
    "    if n==0:\n",
    "        return 0\n",
    "    while n>0:\n",
    "        result += (n%10)*(8**power)\n",
    "        print(\"step \",power+1, \":\",result)\n",
    "        n=n//10   #to remove the last number\n",
    "        power +=1\n",
    "    return result\n",
    "\n",
    "n=int(input(\"Enter Decimal Number: \"))\n",
    "res= OctalToDecimal(n)\n",
    "print(res)"
   ],
   "metadata": {
    "collapsed": false,
    "ExecuteTime": {
     "end_time": "2024-07-08T05:43:13.285486Z",
     "start_time": "2024-07-08T05:43:11.529431Z"
    }
   },
   "id": "4f8f2d4bc2603302",
   "execution_count": 37
  },
  {
   "cell_type": "code",
   "outputs": [
    {
     "name": "stdout",
     "output_type": "stream",
     "text": [
      "7B\n"
     ]
    }
   ],
   "source": [
    "def DecimalToHexadecimal(n):\n",
    "    result=\"\"\n",
    "    Hexadecimal=\"0123456789ABCDEF\"\n",
    "    if n==0:\n",
    "        return 0\n",
    "    while n>0:\n",
    "        remainder=n%16\n",
    "        result= Hexadecimal[remainder]+result\n",
    "        n=n//16\n",
    "    return result\n",
    "\n",
    "n=int(input(\"Enter Decimal Number: \"))\n",
    "print(DecimalToHexadecimal(n))\n",
    "            "
   ],
   "metadata": {
    "collapsed": false,
    "ExecuteTime": {
     "end_time": "2024-07-08T08:54:05.656300Z",
     "start_time": "2024-07-08T08:54:02.872595Z"
    }
   },
   "id": "33ea3c2c514ef2f2",
   "execution_count": 2
  },
  {
   "cell_type": "code",
   "outputs": [
    {
     "name": "stdout",
     "output_type": "stream",
     "text": [
      "123\n"
     ]
    }
   ],
   "source": [
    "def HexadecimalToDecimal(n_hex):\n",
    "    hexadecimal=\"0123456789ABCDEF\"\n",
    "    n_hex=n_hex[::-1].upper()\n",
    "    power=0;result=0\n",
    "    if n_hex[0]==\"0\" and len(n_hex):\n",
    "        return 0\n",
    "    for ch in n_hex:\n",
    "        result += (hexadecimal.index(ch))*(16**power)\n",
    "        power +=1\n",
    "    return result\n",
    "n_hex=input(\"Enter Hexadecimal\")\n",
    "res= HexadecimalToDecimal(n_hex)\n",
    "print(res)"
   ],
   "metadata": {
    "collapsed": false,
    "ExecuteTime": {
     "end_time": "2024-07-08T09:42:55.493300Z",
     "start_time": "2024-07-08T09:42:53.576231Z"
    }
   },
   "id": "de81b04bed3f6115",
   "execution_count": 10
  },
  {
   "cell_type": "code",
   "outputs": [
    {
     "name": "stdout",
     "output_type": "stream",
     "text": [
      "True True\n"
     ]
    }
   ],
   "source": [
    "#WAP to check if it is a power of 2\n",
    "def checkPowerOfTwo(n):\n",
    "    result=False\n",
    "    check=n&(n-1)\n",
    "    if(check==0):\n",
    "        result=True\n",
    "    return result\n",
    "\n",
    "def isPowerOfTwo(n):\n",
    "    cnt=0\n",
    "    while(n>0):\n",
    "        if(n&1)==1:\n",
    "            cnt +=1\n",
    "        n=n>>1\n",
    "    if(cnt==1):\n",
    "        return True\n",
    "    return False\n",
    "\n",
    "n=32\n",
    "res=checkPowerOfTwo(n)\n",
    "res1=isPowerOfTwo(n)\n",
    "print(res,res1)"
   ],
   "metadata": {
    "collapsed": false,
    "ExecuteTime": {
     "end_time": "2024-07-08T10:06:01.960197Z",
     "start_time": "2024-07-08T10:06:01.954488Z"
    }
   },
   "id": "7fc04ebc8984656",
   "execution_count": 23
  },
  {
   "cell_type": "code",
   "outputs": [],
   "source": [],
   "metadata": {
    "collapsed": false
   },
   "id": "746d3ccb0be65553"
  }
 ],
 "metadata": {
  "kernelspec": {
   "display_name": "Python 3",
   "language": "python",
   "name": "python3"
  },
  "language_info": {
   "codemirror_mode": {
    "name": "ipython",
    "version": 2
   },
   "file_extension": ".py",
   "mimetype": "text/x-python",
   "name": "python",
   "nbconvert_exporter": "python",
   "pygments_lexer": "ipython2",
   "version": "2.7.6"
  }
 },
 "nbformat": 4,
 "nbformat_minor": 5
}
