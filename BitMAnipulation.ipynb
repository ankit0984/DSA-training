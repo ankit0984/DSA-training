{
 "cells": [
  {
   "cell_type": "code",
   "execution_count": 2,
   "id": "initial_id",
   "metadata": {
    "collapsed": true,
    "ExecuteTime": {
     "end_time": "2024-07-08T08:17:46.913740Z",
     "start_time": "2024-07-08T08:17:46.908437Z"
    }
   },
   "outputs": [
    {
     "name": "stdout",
     "output_type": "stream",
     "text": [
      "8\n",
      "16\n"
     ]
    }
   ],
   "source": [
    "#Bitwise Operators\n",
    "\n",
    "#1.Bitwise AND(&)\n",
    "print(10&12)\n",
    "\n",
    "# 10 -> 1010\n",
    "# 12 -> 1100\n",
    "#------------\n",
    "#       1000 (8)\n",
    "      \n",
    "print(17&24)"
   ]
  },
  {
   "cell_type": "code",
   "outputs": [
    {
     "name": "stdout",
     "output_type": "stream",
     "text": [
      "14\n",
      "63\n"
     ]
    }
   ],
   "source": [
    "# BitWise OR ( | )\n",
    "print(10|12)\n",
    "\n",
    "print(35|29)"
   ],
   "metadata": {
    "collapsed": false,
    "ExecuteTime": {
     "end_time": "2024-07-08T08:30:44.222939Z",
     "start_time": "2024-07-08T08:30:44.219813Z"
    }
   },
   "id": "8d2c697e30b575aa",
   "execution_count": 6
  },
  {
   "cell_type": "code",
   "outputs": [
    {
     "name": "stdout",
     "output_type": "stream",
     "text": [
      "6\n",
      "55\n",
      "0b10111\n"
     ]
    }
   ],
   "source": [
    " #BitWise XOR (^)\n",
    "print(10^12)\n",
    "print(23^32)\n"
   ],
   "metadata": {
    "collapsed": false,
    "ExecuteTime": {
     "end_time": "2024-07-08T08:39:13.404798Z",
     "start_time": "2024-07-08T08:39:13.398221Z"
    }
   },
   "id": "fa8575eb8548a038",
   "execution_count": 9
  },
  {
   "cell_type": "code",
   "outputs": [
    {
     "name": "stdout",
     "output_type": "stream",
     "text": [
      "40\n",
      "60\n"
     ]
    }
   ],
   "source": [
    "#left Shift (<<) \n",
    "print(10<<2) #10+10=20, 20+20=40\n",
    "print(15<<2)\n"
   ],
   "metadata": {
    "collapsed": false,
    "ExecuteTime": {
     "end_time": "2024-07-08T08:44:57.238602Z",
     "start_time": "2024-07-08T08:44:57.234014Z"
    }
   },
   "id": "130d94839efe0add",
   "execution_count": 11
  },
  {
   "cell_type": "code",
   "outputs": [
    {
     "name": "stdout",
     "output_type": "stream",
     "text": [
      "2\n"
     ]
    }
   ],
   "source": [
    "#Right Shift (>>)\n",
    "print(10>>2) #10//2=5, 5//2=2\n"
   ],
   "metadata": {
    "collapsed": false,
    "ExecuteTime": {
     "end_time": "2024-07-08T08:49:19.677198Z",
     "start_time": "2024-07-08T08:49:19.672988Z"
    }
   },
   "id": "755af3c453721014",
   "execution_count": 19
  },
  {
   "cell_type": "code",
   "outputs": [
    {
     "name": "stdout",
     "output_type": "stream",
     "text": [
      "12\n",
      "12\n"
     ]
    }
   ],
   "source": [
    "#calculate 2^k + 2^n using bitwise operator\n",
    "#using left shift operator\n",
    "def Calculate(n,k):\n",
    "    return (2<<n-1)+(2<<k-1)\n",
    "\n",
    "def methodTwo(n,k):\n",
    "    print((1<<k) | (1<<n))\n",
    "    \n",
    "    \n",
    "n,k=map(int,input(\"Enter the value of n,k:\").split())\n",
    "res=(Calculate(n,k))\n",
    "print(res)\n",
    "\n",
    "methodTwo(n,k)"
   ],
   "metadata": {
    "collapsed": false,
    "ExecuteTime": {
     "end_time": "2024-07-09T04:23:41.981871Z",
     "start_time": "2024-07-09T04:23:37.660510Z"
    }
   },
   "id": "5826471111010d0f",
   "execution_count": 6
  },
  {
   "cell_type": "code",
   "outputs": [
    {
     "name": "stdout",
     "output_type": "stream",
     "text": [
      "4\n",
      "4\n"
     ]
    }
   ],
   "source": [
    "#You are given two numbers A and B counts the number of bits to be flipped to make it similar \"\n",
    "\n",
    "def NumberOfBitNeedsToBeFlipped(a,b):\n",
    "    xor=str(bin((a^b)))\n",
    "    count=xor[2:].count('1')\n",
    "    \n",
    "    return count\n",
    "\n",
    "def SecondMethodForFlipped(a,b):\n",
    "    res=a^b\n",
    "    count=0\n",
    "    while res>0:\n",
    "        if(res&1==1):\n",
    "            count +=1\n",
    "        res=res>>1\n",
    "    return count\n",
    "a,b=map(int,input(\"Enter two numbers:\").split())\n",
    "print(NumberOfBitNeedsToBeFlipped(a,b))\n",
    "print(SecondMethodForFlipped(a,b))"
   ],
   "metadata": {
    "collapsed": false,
    "ExecuteTime": {
     "end_time": "2024-07-09T04:57:23.810598Z",
     "start_time": "2024-07-09T04:57:21.850558Z"
    }
   },
   "id": "16b0d2d5a0ad9845",
   "execution_count": 30
  },
  {
   "cell_type": "code",
   "outputs": [
    {
     "name": "stdout",
     "output_type": "stream",
     "text": [
      "12\n"
     ]
    }
   ],
   "source": [],
   "metadata": {
    "collapsed": false,
    "ExecuteTime": {
     "end_time": "2024-07-09T04:31:22.797482Z",
     "start_time": "2024-07-09T04:31:22.793793Z"
    }
   },
   "id": "77916ad0767cbc69",
   "execution_count": 8
  }
 ],
 "metadata": {
  "kernelspec": {
   "display_name": "Python 3",
   "language": "python",
   "name": "python3"
  },
  "language_info": {
   "codemirror_mode": {
    "name": "ipython",
    "version": 2
   },
   "file_extension": ".py",
   "mimetype": "text/x-python",
   "name": "python",
   "nbconvert_exporter": "python",
   "pygments_lexer": "ipython2",
   "version": "2.7.6"
  }
 },
 "nbformat": 4,
 "nbformat_minor": 5
}
