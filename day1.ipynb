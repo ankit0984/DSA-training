{
 "cells": [
  {
   "cell_type": "code",
   "execution_count": 2,
   "metadata": {},
   "outputs": [
    {
     "name": "stdout",
     "output_type": "stream",
     "text": [
      "Binary value: 11011\n",
      "Binary value: [1, 0, 0, 1, 0, 0, 1]\n",
      "Binary value: 1001001 \n",
      "\n"
     ]
    }
   ],
   "source": [
    "# Q. write a program to calculate the binary value of a given decimal number\n",
    "# way 1: calculate the binary value\n",
    "\n",
    "value = 27\n",
    "binary = \"\"\n",
    "while value > 0:\n",
    "    binary = str(value % 2) + binary\n",
    "    value = value // 2\n",
    "print(\"Binary value:\", binary)\n",
    "\n",
    "# way 2: calculate the binary value using list\n",
    "n=73\n",
    "r=[]\n",
    "\n",
    "while n>0:\n",
    "    rem = n%2\n",
    "    r.append(rem)\n",
    "    n=n//2\n",
    "\n",
    "print(\"Binary value:\", r[::-1])\n",
    "\n",
    "# way 3: calculate the binary value using function\n",
    "def binary_value(n):\n",
    "    binary_result = \"\"\n",
    "    if n == 0:\n",
    "        return \"0\"\n",
    "    while n > 0:\n",
    "        binary_result = str(n % 2) + binary_result\n",
    "        n = n // 2\n",
    "    return binary_result\n",
    "# n=int(input(\"Enter the number: \"))   # input from user\n",
    "n=73\n",
    "print(\"Binary value:\", binary_value(n),\"\\n\")"
   ]
  },
  {
   "cell_type": "code",
   "execution_count": 37,
   "metadata": {},
   "outputs": [
    {
     "name": "stdout",
     "output_type": "stream",
     "text": [
      "Decimal value: 16\n"
     ]
    }
   ],
   "source": [
    "# Q. wap a python programm to calculate decimal value of a given binary number\n",
    "\n",
    "# binary_number = \"101010\"  # Replace with the binary number you want to convert\n",
    "\n",
    "# decimal_value = 0\n",
    "# power = len(binary_number) - 1\n",
    "\n",
    "# for digit in binary_number:\n",
    "#     decimal_value += int(digit) * (2 ** power)\n",
    "#     power -= 1\n",
    "\n",
    "# print(\"Decimal value:\", decimal_value)\n",
    "\n",
    "\n",
    "# another method\n",
    "def binary_to_decimal(n):\n",
    "    result = 0\n",
    "    power = 0\n",
    "    while n>0:\n",
    "        res=(n%10)*(2**power)\n",
    "        power+=1\n",
    "        n=n//10\n",
    "    return res\n",
    "\n",
    "n=int(input(\"Enter the binary number: \"))\n",
    "# n=111111\n",
    "print(\"Decimal value:\", binary_to_decimal(n))\n"
   ]
  },
  {
   "cell_type": "code",
   "execution_count": 1,
   "metadata": {},
   "outputs": [
    {
     "name": "stdout",
     "output_type": "stream",
     "text": [
      "Octal value: 34\n"
     ]
    }
   ],
   "source": [
    "# Q. wap a python programm to calculate octal value of a given binary number\n",
    "def octal_to_decimal(n):\n",
    "    result = 0\n",
    "    power = 0\n",
    "    while n>0:\n",
    "        res=(n%8)*(2**power)\n",
    "        power+=1\n",
    "        n=n//8\n",
    "    return res\n",
    "\n",
    "# n=int(input(\"Enter the binary number: \"))\n",
    "n=\n",
    "print(\"Decimal value:\", octal_to_decimal(n))\n",
    "\n",
    "# another method\n",
    "\n",
    "def binary_to_decimal(n):\n",
    "    result=\"\"\n",
    "    while n>0:\n",
    "        result=str(n%8)+result\n",
    "        n=n//8\n",
    "    return result\n",
    "\n",
    "# n=int(input(\"Enter the binary number: \"))\n",
    "n=28\n",
    "print(\"Decimal value:\", binary_to_decimal(n))"
   ]
  },
  {
   "cell_type": "code",
   "execution_count": 4,
   "metadata": {},
   "outputs": [
    {
     "name": "stdout",
     "output_type": "stream",
     "text": [
      "Hexadecimal value: 14\n"
     ]
    }
   ],
   "source": [
    "# Q. wap a python programm to convert decimal to hexadecimal\n",
    "def decimal_to_hexadecimal(n):\n",
    "    result=\"\"\n",
    "    while n>0:\n",
    "        rem=n%16\n",
    "        if rem<10:\n",
    "            result=str(rem)+result\n",
    "        else:\n",
    "            result=chr(rem+55)+result\n",
    "        n=n//16\n",
    "    return result\n",
    "n=20\n",
    "print(\"Hexadecimal value:\", decimal_to_hexadecimal(n))"
   ]
  },
  {
   "cell_type": "code",
   "execution_count": 8,
   "metadata": {},
   "outputs": [
    {
     "name": "stdout",
     "output_type": "stream",
     "text": [
      "Binary value: 111110011001\n"
     ]
    }
   ],
   "source": [
    "# wap to convert octal to binary\n",
    "\n",
    "# method 1\n",
    "octal_number = 7631\n",
    "binary_number = bin(int(str(octal_number), 8))[2:]\n",
    "print(\"Binary value:\", binary_number)\n",
    "\n",
    "# method 2\n",
    "\n",
    "octal_number = 7631\n",
    "\n",
    "# Convert octal to decimal\n",
    "decimal_number = 0\n",
    "power = 0\n",
    "while octal_number > 0:\n",
    "    decimal_number += (octal_number % 10) * (8 ** power)\n",
    "    octal_number //= 10\n",
    "    power += 1\n",
    "\n",
    "# Convert decimal to binary\n",
    "binary_number = \"\"\n",
    "while decimal_number > 0:\n",
    "    binary_number = str(decimal_number % 2) + binary_number\n",
    "    decimal_number //= 2\n",
    "\n",
    "print(\"Binary value:\", binary_number)\n"
   ]
  },
  {
   "cell_type": "code",
   "execution_count": null,
   "metadata": {},
   "outputs": [],
   "source": [
    "# convert octal to binary using function\n",
    "def octal_to_binary(octal_number):\n",
    "    binary_number = \"\"\n",
    "    for digit in str(octal_number):\n",
    "        decimal = int(digit)\n",
    "        binary = \"\"\n",
    "        while decimal > 0:\n",
    "            binary = str(decimal % 2) + binary\n",
    "            decimal //= 2\n",
    "        binary_number += binary.zfill(3)\n",
    "    return binary_number\n",
    "\n",
    "octal_number = 7631\n",
    "binary_number = octal_to_binary(octal_number)\n",
    "print(\"Binary value:\", binary_number)"
   ]
  },
  {
   "cell_type": "code",
   "execution_count": 11,
   "metadata": {},
   "outputs": [
    {
     "name": "stdout",
     "output_type": "stream",
     "text": [
      "Binary value: 1001110110110101\n"
     ]
    }
   ],
   "source": [
    "hexadecimal_number = '9db5'\n",
    "binary_number = bin(int(hexadecimal_number, 16))[2:]\n",
    "print(\"Binary value:\", binary_number)\n",
    "\n"
   ]
  },
  {
   "cell_type": "code",
   "execution_count": 1,
   "metadata": {},
   "outputs": [
    {
     "name": "stdout",
     "output_type": "stream",
     "text": [
      "Hexadecimal value: 9DB5\n"
     ]
    }
   ],
   "source": [
    "binary_number = '1001110110110101'\n",
    "hexadecimal_number = \"\"\n",
    "\n",
    "# Group the binary number into groups of 4 digits\n",
    "while len(binary_number) % 4 != 0:\n",
    "    binary_number = '0' + binary_number\n",
    "\n",
    "# Convert each group of 4 digits to a hexadecimal digit\n",
    "for i in range(0, len(binary_number), 4):\n",
    "    group = binary_number[i:i+4]\n",
    "    decimal_value = 0\n",
    "    power = 3\n",
    "\n",
    "    # Convert the binary group to decimal\n",
    "    for digit in group:\n",
    "        decimal_value += int(digit) * (2 ** power)\n",
    "        power -= 1\n",
    "\n",
    "    # Convert the decimal value to hexadecimal\n",
    "    if decimal_value < 10:\n",
    "        hexadecimal_number += str(decimal_value)\n",
    "    else:\n",
    "        hexadecimal_number += chr(decimal_value + 55)\n",
    "\n",
    "print(\"Hexadecimal value:\", hexadecimal_number)"
   ]
  },
  {
   "cell_type": "markdown",
   "metadata": {},
   "source": [
    "Bitwise operator"
   ]
  },
  {
   "cell_type": "code",
   "execution_count": 8,
   "metadata": {},
   "outputs": [
    {
     "name": "stdout",
     "output_type": "stream",
     "text": [
      "30\n",
      "0\n",
      "80\n",
      "8\n"
     ]
    }
   ],
   "source": [
    "# bitwise xor(^) operator\n",
    "\n",
    "a=10\n",
    "b=20\n",
    "print(a^b)\n",
    "\n",
    "# bitwise and(&) operator\n",
    "a=10\n",
    "b=20\n",
    "print(a&b)\n",
    "\n",
    "# bitwise shift left(<<) operator\n",
    "print(20<<2) # 20+20=40, 40+40=80\n",
    "\n",
    "# bitwise shift right(>>) operator\n",
    "print(35>>2) # 20//2=10, 10//2=5"
   ]
  },
  {
   "cell_type": "code",
   "execution_count": 13,
   "metadata": {},
   "outputs": [
    {
     "name": "stdout",
     "output_type": "stream",
     "text": [
      "Hexadecimal value: C\n"
     ]
    }
   ],
   "source": [
    "# wap to print calculate hexadecimal value of a given decimal number, not using inbuilt function\n",
    "# sample input:123, sample output:7B\n",
    "\n",
    "# method 1\n",
    "def decimal_to_hexadecimal(n):\n",
    "    hex_digits = \"0123456789ABCDEF\"\n",
    "    hexadecimal = \"\"\n",
    "    while n > 0:\n",
    "        remainder = n % 16\n",
    "        hexadecimal = hex_digits[remainder] + hexadecimal\n",
    "\n",
    "        n = n // 16\n",
    "    return hexadecimal\n",
    "\n",
    "decimal_number = int(input(\"Enter a decimal number: \"))\n",
    "hexadecimal_value = decimal_to_hexadecimal(decimal_number)\n",
    "print(\"Hexadecimal value:\", hexadecimal_value)\n",
    "\n"
   ]
  },
  {
   "cell_type": "code",
   "execution_count": 14,
   "metadata": {},
   "outputs": [
    {
     "ename": "ValueError",
     "evalue": "substring not found",
     "output_type": "error",
     "traceback": [
      "\u001b[0;31m---------------------------------------------------------------------------\u001b[0m",
      "\u001b[0;31mValueError\u001b[0m                                Traceback (most recent call last)",
      "Cell \u001b[0;32mIn[14], line 15\u001b[0m\n\u001b[1;32m     12\u001b[0m     \u001b[38;5;28;01mreturn\u001b[39;00m decimal_value\n\u001b[1;32m     14\u001b[0m hexadecimal_number \u001b[38;5;241m=\u001b[39m \u001b[38;5;124m\"\u001b[39m\u001b[38;5;124m7b\u001b[39m\u001b[38;5;124m\"\u001b[39m\n\u001b[0;32m---> 15\u001b[0m decimal_value \u001b[38;5;241m=\u001b[39m \u001b[43mhexadecimal_to_decimal\u001b[49m\u001b[43m(\u001b[49m\u001b[43mhexadecimal_number\u001b[49m\u001b[43m)\u001b[49m\n\u001b[1;32m     16\u001b[0m \u001b[38;5;28mprint\u001b[39m(\u001b[38;5;124m\"\u001b[39m\u001b[38;5;124mDecimal value:\u001b[39m\u001b[38;5;124m\"\u001b[39m, decimal_value)\n",
      "Cell \u001b[0;32mIn[14], line 9\u001b[0m, in \u001b[0;36mhexadecimal_to_decimal\u001b[0;34m(hexadecimal_number)\u001b[0m\n\u001b[1;32m      6\u001b[0m hex_digits \u001b[38;5;241m=\u001b[39m \u001b[38;5;124m\"\u001b[39m\u001b[38;5;124m0123456789ABCDEF\u001b[39m\u001b[38;5;124m\"\u001b[39m\n\u001b[1;32m      8\u001b[0m \u001b[38;5;28;01mfor\u001b[39;00m digit \u001b[38;5;129;01min\u001b[39;00m hexadecimal_number:\n\u001b[0;32m----> 9\u001b[0m     decimal_value \u001b[38;5;241m+\u001b[39m\u001b[38;5;241m=\u001b[39m \u001b[43mhex_digits\u001b[49m\u001b[38;5;241;43m.\u001b[39;49m\u001b[43mindex\u001b[49m\u001b[43m(\u001b[49m\u001b[43mdigit\u001b[49m\u001b[43m)\u001b[49m \u001b[38;5;241m*\u001b[39m (\u001b[38;5;241m16\u001b[39m \u001b[38;5;241m*\u001b[39m\u001b[38;5;241m*\u001b[39m power)\n\u001b[1;32m     10\u001b[0m     power \u001b[38;5;241m-\u001b[39m\u001b[38;5;241m=\u001b[39m \u001b[38;5;241m1\u001b[39m\n\u001b[1;32m     12\u001b[0m \u001b[38;5;28;01mreturn\u001b[39;00m decimal_value\n",
      "\u001b[0;31mValueError\u001b[0m: substring not found"
     ]
    }
   ],
   "source": [
    "# wap to print calculate decimal value of a given hexadecimal number, not using inbuilt function\n",
    "# sample input:7b, sample output:123\n",
    "def hexadecimal_to_decimal(hexadecimal_number):\n",
    "    decimal_value = 0\n",
    "    power = len(hexadecimal_number) - 1\n",
    "    hex_digits = \"0123456789ABCDEF\"\n",
    "\n",
    "    for digit in hexadecimal_number:\n",
    "        decimal_value += hex_digits.index(digit) * (16 ** power)\n",
    "        power -= 1\n",
    "\n",
    "    return decimal_value\n",
    "\n",
    "hexadecimal_number = \"7b\"\n",
    "decimal_value = hexadecimal_to_decimal(hexadecimal_number)\n",
    "print(\"Decimal value:\", decimal_value)"
   ]
  },
  {
   "cell_type": "code",
   "execution_count": 18,
   "metadata": {},
   "outputs": [
    {
     "name": "stdout",
     "output_type": "stream",
     "text": [
      "33 is not a power of 2\n"
     ]
    }
   ],
   "source": [
    "# wap to check if it is a power of 2\n",
    "\n",
    "\n",
    "def is_power_of_two(n):\n",
    "    return n > 0 and (n & (n - 1)) == 0\n",
    "\n",
    "number = 33  # Replace with the number you want to check\n",
    "if is_power_of_two(number):\n",
    "    print(f\"{number} is a power of 2\")\n",
    "else:\n",
    "   print(f\"{number} is not a power of 2\")"
   ]
  },
  {
   "cell_type": "code",
   "execution_count": null,
   "metadata": {},
   "outputs": [],
   "source": []
  }
 ],
 "metadata": {
  "kernelspec": {
   "display_name": "Python 3",
   "language": "python",
   "name": "python3"
  },
  "language_info": {
   "codemirror_mode": {
    "name": "ipython",
    "version": 3
   },
   "file_extension": ".py",
   "mimetype": "text/x-python",
   "name": "python",
   "nbconvert_exporter": "python",
   "pygments_lexer": "ipython3",
   "version": "3.10.13"
  }
 },
 "nbformat": 4,
 "nbformat_minor": 2
}
