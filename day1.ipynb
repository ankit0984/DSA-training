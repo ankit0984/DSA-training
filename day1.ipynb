{
 "cells": [
  {
   "cell_type": "code",
   "execution_count": 2,
   "metadata": {},
   "outputs": [
    {
     "name": "stdout",
     "output_type": "stream",
     "text": [
      "Binary value: 11011\n",
      "Binary value: [1, 0, 0, 1, 0, 0, 1]\n",
      "Binary value: 1001001 \n",
      "\n"
     ]
    }
   ],
   "source": [
    "# Q. write a program to calculate the binary value of a given decimal number\n",
    "# way 1: calculate the binary value\n",
    "\n",
    "value = 27\n",
    "binary = \"\"\n",
    "while value > 0:\n",
    "    binary = str(value % 2) + binary\n",
    "    value = value // 2\n",
    "print(\"Binary value:\", binary)\n",
    "\n",
    "# way 2: calculate the binary value using list\n",
    "n=73\n",
    "r=[]\n",
    "\n",
    "while n>0:\n",
    "    rem = n%2\n",
    "    r.append(rem)\n",
    "    n=n//2\n",
    "\n",
    "print(\"Binary value:\", r[::-1])\n",
    "\n",
    "# way 3: calculate the binary value using function\n",
    "def binary_value(n):\n",
    "    binary_result = \"\"\n",
    "    if n == 0:\n",
    "        return \"0\"\n",
    "    while n > 0:\n",
    "        binary_result = str(n % 2) + binary_result\n",
    "        n = n // 2\n",
    "    return binary_result\n",
    "# n=int(input(\"Enter the number: \"))   # input from user\n",
    "n=73\n",
    "print(\"Binary value:\", binary_value(n),\"\\n\")"
   ]
  },
  {
   "cell_type": "code",
   "execution_count": 37,
   "metadata": {},
   "outputs": [
    {
     "name": "stdout",
     "output_type": "stream",
     "text": [
      "Decimal value: 16\n"
     ]
    }
   ],
   "source": [
    "# Q. wap a python programm to calculate decimal value of a given binary number\n",
    "\n",
    "# binary_number = \"101010\"  # Replace with the binary number you want to convert\n",
    "\n",
    "# decimal_value = 0\n",
    "# power = len(binary_number) - 1\n",
    "\n",
    "# for digit in binary_number:\n",
    "#     decimal_value += int(digit) * (2 ** power)\n",
    "#     power -= 1\n",
    "\n",
    "# print(\"Decimal value:\", decimal_value)\n",
    "\n",
    "\n",
    "# another method\n",
    "def binary_to_decimal(n):\n",
    "    result = 0\n",
    "    power = 0\n",
    "    while n>0:\n",
    "        res=(n%10)*(2**power)\n",
    "        power+=1\n",
    "        n=n//10\n",
    "    return res\n",
    "\n",
    "n=int(input(\"Enter the binary number: \"))\n",
    "# n=111111\n",
    "print(\"Decimal value:\", binary_to_decimal(n))\n"
   ]
  },
  {
   "cell_type": "code",
   "execution_count": 1,
   "metadata": {},
   "outputs": [
    {
     "name": "stdout",
     "output_type": "stream",
     "text": [
      "Octal value: 34\n"
     ]
    }
   ],
   "source": [
    "# Q. wap a python programm to calculate octal value of a given binary number\n",
    "def octal_to_decimal(n):\n",
    "    result = 0\n",
    "    power = 0\n",
    "    while n>0:\n",
    "        res=(n%8)*(2**power)\n",
    "        power+=1\n",
    "        n=n//8\n",
    "    return res\n",
    "\n",
    "# n=int(input(\"Enter the binary number: \"))\n",
    "n=\n",
    "print(\"Decimal value:\", octal_to_decimal(n))\n",
    "\n",
    "# another method\n",
    "\n",
    "def binary_to_decimal(n):\n",
    "    result=\"\"\n",
    "    while n>0:\n",
    "        result=str(n%8)+result\n",
    "        n=n//8\n",
    "    return result\n",
    "\n",
    "# n=int(input(\"Enter the binary number: \"))\n",
    "n=28\n",
    "print(\"Decimal value:\", binary_to_decimal(n))"
   ]
  },
  {
   "cell_type": "code",
   "execution_count": 4,
   "metadata": {},
   "outputs": [
    {
     "name": "stdout",
     "output_type": "stream",
     "text": [
      "Hexadecimal value: 14\n"
     ]
    }
   ],
   "source": [
    "# Q. wap a python programm to convert decimal to hexadecimal\n",
    "def decimal_to_hexadecimal(n):\n",
    "    result=\"\"\n",
    "    while n>0:\n",
    "        rem=n%16\n",
    "        if rem<10:\n",
    "            result=str(rem)+result\n",
    "        else:\n",
    "            result=chr(rem+55)+result\n",
    "        n=n//16\n",
    "    return result\n",
    "n=20\n",
    "print(\"Hexadecimal value:\", decimal_to_hexadecimal(n))"
   ]
  },
  {
   "cell_type": "code",
   "execution_count": 8,
   "metadata": {},
   "outputs": [
    {
     "name": "stdout",
     "output_type": "stream",
     "text": [
      "Binary value: 111110011001\n"
     ]
    }
   ],
   "source": [
    "# wap to convert octal to binary\n",
    "\n",
    "# method 1\n",
    "octal_number = 7631\n",
    "binary_number = bin(int(str(octal_number), 8))[2:]\n",
    "print(\"Binary value:\", binary_number)\n",
    "\n",
    "# method 2\n",
    "\n",
    "octal_number = 7631\n",
    "\n",
    "# Convert octal to decimal\n",
    "decimal_number = 0\n",
    "power = 0\n",
    "while octal_number > 0:\n",
    "    decimal_number += (octal_number % 10) * (8 ** power)\n",
    "    octal_number //= 10\n",
    "    power += 1\n",
    "\n",
    "# Convert decimal to binary\n",
    "binary_number = \"\"\n",
    "while decimal_number > 0:\n",
    "    binary_number = str(decimal_number % 2) + binary_number\n",
    "    decimal_number //= 2\n",
    "\n",
    "print(\"Binary value:\", binary_number)\n"
   ]
  },
  {
   "cell_type": "code",
   "execution_count": null,
   "metadata": {},
   "outputs": [],
   "source": [
    "# convert octal to binary using function\n",
    "def octal_to_binary(octal_number):\n",
    "    binary_number = \"\"\n",
    "    for digit in str(octal_number):\n",
    "        decimal = int(digit)\n",
    "        binary = \"\"\n",
    "        while decimal > 0:\n",
    "            binary = str(decimal % 2) + binary\n",
    "            decimal //= 2\n",
    "        binary_number += binary.zfill(3)\n",
    "    return binary_number\n",
    "\n",
    "octal_number = 7631\n",
    "binary_number = octal_to_binary(octal_number)\n",
    "print(\"Binary value:\", binary_number)"
   ]
  },
  {
   "cell_type": "code",
   "execution_count": 11,
   "metadata": {},
   "outputs": [
    {
     "name": "stdout",
     "output_type": "stream",
     "text": [
      "Binary value: 1001110110110101\n"
     ]
    }
   ],
   "source": [
    "hexadecimal_number = '9db5'\n",
    "binary_number = bin(int(hexadecimal_number, 16))[2:]\n",
    "print(\"Binary value:\", binary_number)\n",
    "\n"
   ]
  },
  {
   "cell_type": "code",
   "execution_count": null,
   "metadata": {},
   "outputs": [],
   "source": []
  }
 ],
 "metadata": {
  "kernelspec": {
   "display_name": "Python 3",
   "language": "python",
   "name": "python3"
  },
  "language_info": {
   "codemirror_mode": {
    "name": "ipython",
    "version": 3
   },
   "file_extension": ".py",
   "mimetype": "text/x-python",
   "name": "python",
   "nbconvert_exporter": "python",
   "pygments_lexer": "ipython3",
   "version": "3.10.13"
  }
 },
 "nbformat": 4,
 "nbformat_minor": 2
}
