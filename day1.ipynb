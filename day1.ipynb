{
 "cells": [
  {
   "cell_type": "code",
   "execution_count": 2,
   "metadata": {},
   "outputs": [
    {
     "name": "stdout",
     "output_type": "stream",
     "text": [
      "Binary value: 11011\n",
      "Binary value: [1, 0, 0, 1, 0, 0, 1]\n",
      "Binary value: 1001001 \n",
      "\n"
     ]
    }
   ],
   "source": [
    "# Q. write a program to calculate the binary value of a given decimal number\n",
    "# way 1: calculate the binary value\n",
    "\n",
    "value = 27\n",
    "binary = \"\"\n",
    "while value > 0:\n",
    "    binary = str(value % 2) + binary\n",
    "    value = value // 2\n",
    "print(\"Binary value:\", binary)\n",
    "\n",
    "# way 2: calculate the binary value using list\n",
    "n=73\n",
    "r=[]\n",
    "\n",
    "while n>0:\n",
    "    rem = n%2\n",
    "    r.append(rem)\n",
    "    n=n//2\n",
    "\n",
    "print(\"Binary value:\", r[::-1])\n",
    "\n",
    "# way 3: calculate the binary value using function\n",
    "def binary_value(n):\n",
    "    binary_result = \"\"\n",
    "    if n == 0:\n",
    "        return \"0\"\n",
    "    while n > 0:\n",
    "        binary_result = str(n % 2) + binary_result\n",
    "        n = n // 2\n",
    "    return binary_result\n",
    "# n=int(input(\"Enter the number: \"))   # input from user\n",
    "n=73\n",
    "print(\"Binary value:\", binary_value(n),\"\\n\")"
   ]
  },
  {
   "cell_type": "code",
   "execution_count": 1,
   "metadata": {},
   "outputs": [
    {
     "name": "stdout",
     "output_type": "stream",
     "text": [
      "Decimal value: 42\n"
     ]
    }
   ],
   "source": [
    "# Q. wap a python programm to calculate decimal value of a given binary number\n",
    "\n",
    "binary_number = \"101010\"  # Replace with the binary number you want to convert\n",
    "\n",
    "decimal_value = 0\n",
    "power = len(binary_number) - 1\n",
    "\n",
    "for digit in binary_number:\n",
    "    decimal_value += int(digit) * (2 ** power)\n",
    "    power -= 1\n",
    "\n",
    "print(\"Decimal value:\", decimal_value)"
   ]
  }
 ],
 "metadata": {
  "kernelspec": {
   "display_name": "Python 3",
   "language": "python",
   "name": "python3"
  },
  "language_info": {
   "codemirror_mode": {
    "name": "ipython",
    "version": 3
   },
   "file_extension": ".py",
   "mimetype": "text/x-python",
   "name": "python",
   "nbconvert_exporter": "python",
   "pygments_lexer": "ipython3",
   "version": "3.10.13"
  }
 },
 "nbformat": 4,
 "nbformat_minor": 2
}
