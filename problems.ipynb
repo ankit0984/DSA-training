{
 "cells": [
  {
   "cell_type": "code",
   "execution_count": null,
   "id": "initial_id",
   "metadata": {
    "collapsed": true
   },
   "outputs": [],
   "source": [
    "#divides the apple\n",
    "n=int(input())\n",
    "k=int(input())\n",
    "print(k%n)"
   ]
  },
  {
   "cell_type": "code",
   "execution_count": 2,
   "id": "67a6fc377897a8fb",
   "metadata": {
    "ExecuteTime": {
     "end_time": "2024-07-09T06:19:02.017672Z",
     "start_time": "2024-07-09T06:18:59.369371Z"
    },
    "collapsed": false
   },
   "outputs": [
    {
     "name": "stdout",
     "output_type": "stream",
     "text": [
      "38\n"
     ]
    }
   ],
   "source": [
    "#C - Watching Movies at 2x\n",
    "x,y=map(int,input().split())\n",
    "print(y//2+x-y)"
   ]
  },
  {
   "cell_type": "code",
   "execution_count": null,
   "id": "59d547afc302c8d",
   "metadata": {
    "collapsed": false
   },
   "outputs": [],
   "source": [
    "#D - Natural numbers sum\n",
    "n=int(input())\n",
    "sum=0\n",
    "for i in range(1,n+1):\n",
    "    sum= sum+i\n",
    "print(sum)"
   ]
  },
  {
   "cell_type": "code",
   "execution_count": 30,
   "id": "deb0e6aa9930f711",
   "metadata": {
    "ExecuteTime": {
     "end_time": "2024-07-09T06:46:12.456159Z",
     "start_time": "2024-07-09T06:46:11.243386Z"
    },
    "collapsed": false
   },
   "outputs": [
    {
     "name": "stdout",
     "output_type": "stream",
     "text": [
      "Not prime\n"
     ]
    }
   ],
   "source": [
    "#WAPP to check the given number is prime or not\n",
    "n=int(input())\n",
    "def prime(n):\n",
    "    if n<=1:\n",
    "        print(\"Not prime\")\n",
    "        return\n",
    "    for i in range(2, int(n**0.5)+1):\n",
    "        if n%1 ==0:\n",
    "            print(\"Not prime\")\n",
    "            return\n",
    "    print(\"Prime\")\n",
    "prime(n)"
   ]
  },
  {
   "cell_type": "code",
   "execution_count": 8,
   "id": "a5441b4e2b5dc5fc",
   "metadata": {
    "ExecuteTime": {
     "end_time": "2024-07-09T06:28:49.863825Z",
     "start_time": "2024-07-09T06:28:48.307294Z"
    },
    "collapsed": false
   },
   "outputs": [
    {
     "name": "stdout",
     "output_type": "stream",
     "text": [
      "1240\n"
     ]
    }
   ],
   "source": [
    "n=int(input())\n",
    "sum=0\n",
    "for i in range(1,n+1):    \n",
    "    sum=sum+i**2\n",
    "    \n",
    "print(sum)"
   ]
  },
  {
   "cell_type": "code",
   "execution_count": null,
   "id": "4df756a48b5259e3",
   "metadata": {
    "collapsed": false
   },
   "outputs": [],
   "source": [
    "#G - Perimeter of rectangle\n",
    "l,b=map(int,input().split())\n",
    "print(2*(l+b))"
   ]
  },
  {
   "cell_type": "code",
   "execution_count": 11,
   "id": "8d3c874999c0816d",
   "metadata": {
    "ExecuteTime": {
     "end_time": "2024-07-09T06:33:57.192662Z",
     "start_time": "2024-07-09T06:33:54.402082Z"
    },
    "collapsed": false
   },
   "outputs": [
    {
     "name": "stdout",
     "output_type": "stream",
     "text": [
      "33453\n"
     ]
    }
   ],
   "source": [
    "#H - Append three\n",
    "n=int(input())\n",
    "print(\"3\"+str(n)+\"3\")"
   ]
  },
  {
   "cell_type": "code",
   "execution_count": 20,
   "id": "62c88a99fbee1ead",
   "metadata": {
    "ExecuteTime": {
     "end_time": "2024-07-09T06:39:39.279927Z",
     "start_time": "2024-07-09T06:39:36.361777Z"
    },
    "collapsed": false
   },
   "outputs": [
    {
     "name": "stdout",
     "output_type": "stream",
     "text": [
      "2\n",
      "4\n",
      "5\n"
     ]
    }
   ],
   "source": [
    "n=int(input())\n",
    "n=str(abs(n))\n",
    "for i in n:\n",
    "    print(i)"
   ]
  },
  {
   "cell_type": "code",
   "execution_count": 21,
   "id": "6073763dfa8ed66e",
   "metadata": {
    "ExecuteTime": {
     "end_time": "2024-07-09T06:42:58.244114Z",
     "start_time": "2024-07-09T06:42:56.156200Z"
    },
    "collapsed": false
   },
   "outputs": [
    {
     "name": "stdout",
     "output_type": "stream",
     "text": [
      "9 24\n"
     ]
    }
   ],
   "source": [
    "#J - Sum and product 3\n",
    "n=int(input())\n",
    "s=0\n",
    "p=1\n",
    "while n>0:\n",
    "    r=n%10\n",
    "    s=s+r\n",
    "    p=p*r\n",
    "    n=n//10\n",
    "print(s,p)"
   ]
  },
  {
   "cell_type": "code",
   "execution_count": 33,
   "id": "aabf1ae1bb8dc5ab",
   "metadata": {
    "ExecuteTime": {
     "end_time": "2024-07-09T06:48:41.819344Z",
     "start_time": "2024-07-09T06:48:39.431445Z"
    },
    "collapsed": false
   },
   "outputs": [
    {
     "name": "stdout",
     "output_type": "stream",
     "text": [
      "1\n"
     ]
    }
   ],
   "source": [
    "#K - Two digits from four digits\n",
    "n=int(input())\n",
    "n=str(n)\n",
    "m=n[1:3]\n",
    "print(int(m))"
   ]
  },
  {
   "cell_type": "code",
   "execution_count": 38,
   "id": "64a6af963e1b8a8c",
   "metadata": {
    "ExecuteTime": {
     "end_time": "2024-07-09T06:55:10.807003Z",
     "start_time": "2024-07-09T06:55:07.831866Z"
    },
    "collapsed": false
   },
   "outputs": [
    {
     "name": "stdout",
     "output_type": "stream",
     "text": [
      "5342\n"
     ]
    }
   ],
   "source": [
    "#L - Left and Right\n",
    "n=input()\n",
    "\n",
    "n=n[-1]+n[1:-1]+n[0]\n",
    "print(int(n))\n"
   ]
  },
  {
   "cell_type": "code",
   "execution_count": 40,
   "id": "aafc26b2c73d2e6a",
   "metadata": {
    "ExecuteTime": {
     "end_time": "2024-07-09T06:58:21.024042Z",
     "start_time": "2024-07-09T06:58:19.434746Z"
    },
    "collapsed": false
   },
   "outputs": [
    {
     "name": "stdout",
     "output_type": "stream",
     "text": [
      "13\n"
     ]
    }
   ],
   "source": [
    "#m\n",
    "x,y=map(int,input().split())\n",
    "print((x**2)+(y**2))\n"
   ]
  },
  {
   "cell_type": "code",
   "execution_count": null,
   "id": "4678975dc6650bbe",
   "metadata": {
    "collapsed": false
   },
   "outputs": [],
   "source": [
    "# n\n",
    "x = int(input())\n",
    "cube = x ** 3\n",
    "print(cube)"
   ]
  },
  {
   "cell_type": "code",
   "execution_count": null,
   "id": "bbd6eea4",
   "metadata": {},
   "outputs": [],
   "source": [
    "# O - Rectangle\n",
    "l,b=map(int,(input().split(\" \")))\n",
    "area= l*b\n",
    "peri=2*(l+b)\n",
    "print(area, peri)\n"
   ]
  },
  {
   "cell_type": "markdown",
   "id": "fe4dd14e",
   "metadata": {},
   "source": [
    "Array contest"
   ]
  },
  {
   "cell_type": "code",
   "execution_count": null,
   "id": "5f886e84",
   "metadata": {},
   "outputs": [],
   "source": [
    "# A - Max element in the array\n",
    "n = int(input())\n",
    "arr = list(map(int, input().split()))\n",
    "maximum_element = max(arr)\n",
    "print(maximum_element)\n",
    "\n",
    "# another method of simple technique\n",
    "arr = input(\"Enter the elements of the array: \").split()\n",
    "arr = [int(x) for x in arr]\n",
    "print(max(arr))"
   ]
  }
 ],
 "metadata": {
  "kernelspec": {
   "display_name": "Python 3",
   "language": "python",
   "name": "python3"
  },
  "language_info": {
   "codemirror_mode": {
    "name": "ipython",
    "version": 2
   },
   "file_extension": ".py",
   "mimetype": "text/x-python",
   "name": "python",
   "nbconvert_exporter": "python",
   "pygments_lexer": "ipython2",
   "version": "2.7.6"
  }
 },
 "nbformat": 4,
 "nbformat_minor": 5
}
